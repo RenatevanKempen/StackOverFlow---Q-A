{
 "cells": [
  {
   "cell_type": "markdown",
   "metadata": {},
   "source": [
    "# Getting a possessions rate using Selenium in stead of Beautiful Soup"
   ]
  },
  {
   "cell_type": "markdown",
   "metadata": {},
   "source": [
    "Goal: get the possesions rate on the tab 'stats' of this website: \n",
    "'https://www.premierleague.com/match/46605'"
   ]
  },
  {
   "cell_type": "markdown",
   "metadata": {},
   "source": [
    "### Original [Question](https://stackoverflow.com/questions/60038040/beatiful-soup-tbody-extraction/60039072?noredirect=1#comment106182484_60039072)"
   ]
  },
  {
   "cell_type": "markdown",
   "metadata": {},
   "source": [
    "I am trying to extract datas from tbody from a web page.\n",
    "\n",
    "I can access the tbody part but there is a empty query came. How can I solve this? Thanks. \n",
    "\n",
    "My expected output like there is tr and td has got in this tbody but nothing came just this : $<tbody class=\"matchCentreStatsContainer\"></tbody>$"
   ]
  },
  {
   "cell_type": "markdown",
   "metadata": {},
   "source": [
    "### Original code"
   ]
  },
  {
   "cell_type": "code",
   "execution_count": 5,
   "metadata": {},
   "outputs": [
    {
     "ename": "SyntaxError",
     "evalue": "unexpected EOF while parsing (<ipython-input-5-63b801171d72>, line 11)",
     "output_type": "error",
     "traceback": [
      "\u001b[1;36m  File \u001b[1;32m\"<ipython-input-5-63b801171d72>\"\u001b[1;36m, line \u001b[1;32m11\u001b[0m\n\u001b[1;33m    Tbody = soup.select('tbody', {'class': 'matchCentreStatsContainer'})\u001b[0m\n\u001b[1;37m                                                                        ^\u001b[0m\n\u001b[1;31mSyntaxError\u001b[0m\u001b[1;31m:\u001b[0m unexpected EOF while parsing\n"
     ]
    }
   ],
   "source": [
    "import requests\n",
    "from bs4 import BeautifulSoup\n",
    "\n",
    "Abs_Conc = []\n",
    "url = 'https://www.premierleague.com/match/46605'\n",
    "res = requests.get(url)\n",
    "html_page = res.content\n",
    "soup = BeautifulSoup(html_page, 'html.parser')\n",
    "\n",
    "try:\n",
    "    Tbody = soup.find('div', {'class': 'matchCentre'}).find('section', {'class': 'mcContent'}).find('div', {'class': 'centralContent'}).find('div', {'class': 'mcTabsContainer'}).find('section', {'class': 'mcMainTab head-to-head'}).find('div', {'class': 'mcStatsTab statsSection season-so-far wrapper col-12'}).select('tbody', {'class': 'matchCentreStatsContainer'})"
   ]
  },
  {
   "cell_type": "markdown",
   "metadata": {},
   "source": [
    "## My solution"
   ]
  },
  {
   "cell_type": "code",
   "execution_count": 115,
   "metadata": {},
   "outputs": [],
   "source": [
    "# Import libraries\n",
    "\n",
    "from selenium import webdriver  # Allows to launch/initialise a browser\n",
    "from selenium.webdriver.support.ui import WebDriverWait  # Allows to wait for a page to load\n",
    "from selenium.webdriver.support import expected_conditions as EC  # Specify what you are looking for on a specific page\n",
    "from selenium.common.exceptions import TimeoutException  # Handling a timeout situation\n",
    "from collections import OrderedDict\n",
    "from copy import copy\n",
    "import numpy as np\n",
    "import pandas as pd\n"
   ]
  },
  {
   "cell_type": "code",
   "execution_count": 116,
   "metadata": {},
   "outputs": [],
   "source": [
    "# Add incognito argument to webdriver\n",
    "liv_option = webdriver.ChromeOptions()\n",
    "liv_option.add_argument(' — incognito')"
   ]
  },
  {
   "cell_type": "code",
   "execution_count": 117,
   "metadata": {},
   "outputs": [
    {
     "name": "stderr",
     "output_type": "stream",
     "text": [
      "C:\\Users\\Renate\\Anaconda3\\ANACONDA\\lib\\site-packages\\ipykernel_launcher.py:4: DeprecationWarning: use options instead of chrome_options\n",
      "  after removing the cwd from sys.path.\n"
     ]
    }
   ],
   "source": [
    "# Create new instance of Chrome\n",
    "\n",
    "liv_browser = webdriver.Chrome(executable_path= '/Users/Renate/Chrome/chromedriver.exe',\n",
    "                              chrome_options=liv_option)"
   ]
  },
  {
   "cell_type": "code",
   "execution_count": 128,
   "metadata": {},
   "outputs": [
    {
     "name": "stderr",
     "output_type": "stream",
     "text": [
      "C:\\Users\\Renate\\Anaconda3\\ANACONDA\\lib\\site-packages\\ipykernel_launcher.py:12: DeprecationWarning: use options instead of chrome_options\n",
      "  if sys.path[0] == '':\n"
     ]
    }
   ],
   "source": [
    "# Import libraries\n",
    "\n",
    "from selenium import webdriver  # Allows to launch/initialise a browser\n",
    "from selenium.webdriver.support.ui import WebDriverWait  # Allows to wait for a page to load\n",
    "from selenium.webdriver.support import expected_conditions as EC  # Specify what you are looking for on a specific page\n",
    "from selenium.common.exceptions import TimeoutException  # Handling a timeout situation\n",
    "import numpy as np\n",
    "import pandas as pd\n",
    "\n",
    "# Request URL\n",
    "liv_browser = webdriver.Chrome(executable_path= '/Users/Renate/Chrome/chromedriver.exe',\n",
    "                              chrome_options=liv_option)\n",
    "liv_browser.get('https://www.premierleague.com/match/46605')"
   ]
  },
  {
   "cell_type": "code",
   "execution_count": 129,
   "metadata": {},
   "outputs": [
    {
     "name": "stdout",
     "output_type": "stream",
     "text": [
      "Successfully opened in the browser!\n"
     ]
    }
   ],
   "source": [
    "liv_timeout = 20\n",
    "try:\n",
    "    WebDriverWait(liv_browser,\n",
    "                  liv_timeout).until(EC.element_to_be_clickable((By.XPATH, '//*[@id=\"mainContent\"]/div/section/div[2]/div[2]/div[1]/div/div/ul/li[3]'))).click()\n",
    "                                                                     \n",
    "    print(\"Successfully opened in the browser!\")\n",
    "except TimeoutException:\n",
    "    print('Page took too long to load or there was a different problem :(')\n",
    "    _browser.quit()  "
   ]
  },
  {
   "cell_type": "code",
   "execution_count": 130,
   "metadata": {},
   "outputs": [],
   "source": [
    "\n",
    "try:    \n",
    "    #liv = liv_browser.find_elements_by_css_selector(\"matchCentreStatsContainer tr\")\n",
    "    liv = liv_browser.find_elements_by_xpath('//*[@id=\"mainContent\"]/div/section/div[2]/div[2]/div[2]/section[3]/div[2]/div[2]/table/tbody')\n",
    "    liv_stats = [x.text for x in liv]\n",
    "    \n",
    "except:\n",
    "    print('this element can not be found')"
   ]
  },
  {
   "cell_type": "code",
   "execution_count": 131,
   "metadata": {},
   "outputs": [
    {
     "data": {
      "text/plain": [
       "['57.9 Possession % 42.1\\n7 Shots on target 5\\n15 Shots 12\\n662 Touches 577\\n477 Passes 363\\n21 Tackles 12\\n5 Clearances 35\\n11 Corners 2\\n0 Offsides 5\\n0 Yellow cards 2\\n9 Fouls conceded 9']"
      ]
     },
     "execution_count": 131,
     "metadata": {},
     "output_type": "execute_result"
    }
   ],
   "source": [
    "liv_stats"
   ]
  },
  {
   "cell_type": "markdown",
   "metadata": {},
   "source": [
    "Updated the answer with a script in Selenium. It worked for me, you just need to clean the list afterwards to get the result you want."
   ]
  },
  {
   "cell_type": "code",
   "execution_count": null,
   "metadata": {},
   "outputs": [],
   "source": []
  }
 ],
 "metadata": {
  "kernelspec": {
   "display_name": "Python 3",
   "language": "python",
   "name": "python3"
  },
  "language_info": {
   "codemirror_mode": {
    "name": "ipython",
    "version": 3
   },
   "file_extension": ".py",
   "mimetype": "text/x-python",
   "name": "python",
   "nbconvert_exporter": "python",
   "pygments_lexer": "ipython3",
   "version": "3.7.3"
  }
 },
 "nbformat": 4,
 "nbformat_minor": 2
}
