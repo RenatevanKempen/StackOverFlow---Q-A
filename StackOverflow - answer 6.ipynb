{
 "cells": [
  {
   "cell_type": "markdown",
   "metadata": {},
   "source": [
    "original question\n",
    "https://stackoverflow.com/questions/59578857/regex-on-numbers-python/59579477#59579477"
   ]
  },
  {
   "cell_type": "code",
   "execution_count": 1,
   "metadata": {},
   "outputs": [],
   "source": [
    "import pandas as pd"
   ]
  },
  {
   "cell_type": "code",
   "execution_count": 19,
   "metadata": {},
   "outputs": [
    {
     "name": "stdout",
     "output_type": "stream",
     "text": [
      "          a\n",
      "0  850890.0\n",
      "1  850999.0\n",
      "2  850990.0\n",
      "3  850995.0\n"
     ]
    }
   ],
   "source": [
    "df = pd.DataFrame({'a': ['850890.0', '850999.0', '850990.0', '850995.0']})\n",
    "print(df)"
   ]
  },
  {
   "cell_type": "code",
   "execution_count": 20,
   "metadata": {},
   "outputs": [
    {
     "data": {
      "text/plain": [
       "'(?:990.0|995.0)'"
      ]
     },
     "execution_count": 20,
     "metadata": {},
     "output_type": "execute_result"
    }
   ],
   "source": [
    "#create a regex to find all numbers\n",
    "numbers = ['990.0', '995.0']\n",
    "  \n",
    "#now put these values in a pattern\n",
    "pattern =  r'(?:{})'.format('|'.join(numbers))\n",
    "pattern"
   ]
  },
  {
   "cell_type": "code",
   "execution_count": 22,
   "metadata": {},
   "outputs": [
    {
     "name": "stdout",
     "output_type": "stream",
     "text": [
      "0         \n",
      "1         \n",
      "2    990.0\n",
      "3    995.0\n",
      "Name: a, dtype: object\n"
     ]
    }
   ],
   "source": [
    "dfnew = df['a'].str.findall(pattern).apply(''.join,1)\n",
    "print(dfnew)"
   ]
  },
  {
   "cell_type": "code",
   "execution_count": null,
   "metadata": {},
   "outputs": [],
   "source": []
  }
 ],
 "metadata": {
  "kernelspec": {
   "display_name": "Python 3",
   "language": "python",
   "name": "python3"
  },
  "language_info": {
   "codemirror_mode": {
    "name": "ipython",
    "version": 3
   },
   "file_extension": ".py",
   "mimetype": "text/x-python",
   "name": "python",
   "nbconvert_exporter": "python",
   "pygments_lexer": "ipython3",
   "version": "3.7.3"
  }
 },
 "nbformat": 4,
 "nbformat_minor": 2
}
